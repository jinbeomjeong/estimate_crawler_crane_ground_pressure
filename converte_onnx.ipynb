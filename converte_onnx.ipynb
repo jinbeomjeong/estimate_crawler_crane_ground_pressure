{
 "cells": [
  {
   "cell_type": "code",
   "id": "initial_id",
   "metadata": {
    "collapsed": true,
    "ExecuteTime": {
     "end_time": "2024-11-01T15:27:46.700807Z",
     "start_time": "2024-11-01T15:27:40.498855Z"
    }
   },
   "source": [
    "import os, keras, tf2onnx\n",
    "import tensorflow as tf\n",
    "\n",
    "from tqdm.notebook import tqdm\n",
    "# required onnx version = 1.14.1"
   ],
   "outputs": [],
   "execution_count": 1
  },
  {
   "metadata": {
    "ExecuteTime": {
     "end_time": "2024-11-01T15:28:04.318913Z",
     "start_time": "2024-11-01T15:27:47.761892Z"
    }
   },
   "cell_type": "code",
   "source": [
    "pred_distance = 10\n",
    "best_model_set = list()\n",
    "\n",
    "for i in tqdm(range(10), desc='Loading best models'):\n",
    "    best_model_set.append(keras.models.load_model(os.path.join('models', f'lstm_model_{i}_{pred_distance}.keras')))"
   ],
   "id": "7f6610afc428f4bf",
   "outputs": [
    {
     "data": {
      "text/plain": [
       "Loading best models:   0%|          | 0/10 [00:00<?, ?it/s]"
      ],
      "application/vnd.jupyter.widget-view+json": {
       "version_major": 2,
       "version_minor": 0,
       "model_id": "b73c484db73b4c00a8c4ad3aebb9f9b9"
      }
     },
     "metadata": {},
     "output_type": "display_data"
    }
   ],
   "execution_count": 2
  },
  {
   "metadata": {
    "ExecuteTime": {
     "end_time": "2024-11-01T15:29:17.634774Z",
     "start_time": "2024-11-01T15:28:44.796169Z"
    }
   },
   "cell_type": "code",
   "source": [
    "spec = (tf.TensorSpec(best_model_set[0].inputs[0].shape, tf.float32, name='input'), )\n",
    "\n",
    "for i, best_model in enumerate(tqdm(best_model_set, desc='convert keras to onnx')):\n",
    "    onnx_model, _ = tf2onnx.convert.from_keras(best_model, input_signature=spec)\n",
    "    \n",
    "    with open(os.path.join('models', f'onnx_model_{i}_{pred_distance}.onnx'), \"wb\") as f:\n",
    "        f.write(onnx_model.SerializeToString())"
   ],
   "id": "8416b0bfb546f854",
   "outputs": [
    {
     "data": {
      "text/plain": [
       "convert keras to onnx:   0%|          | 0/10 [00:00<?, ?it/s]"
      ],
      "application/vnd.jupyter.widget-view+json": {
       "version_major": 2,
       "version_minor": 0,
       "model_id": "b3d7074ca0d04520b407e5c80fab3fc0"
      }
     },
     "metadata": {},
     "output_type": "display_data"
    }
   ],
   "execution_count": 3
  }
 ],
 "metadata": {
  "kernelspec": {
   "display_name": "Python 3",
   "language": "python",
   "name": "python3"
  },
  "language_info": {
   "codemirror_mode": {
    "name": "ipython",
    "version": 2
   },
   "file_extension": ".py",
   "mimetype": "text/x-python",
   "name": "python",
   "nbconvert_exporter": "python",
   "pygments_lexer": "ipython2",
   "version": "2.7.6"
  }
 },
 "nbformat": 4,
 "nbformat_minor": 5
}
