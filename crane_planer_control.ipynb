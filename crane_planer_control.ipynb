{
 "cells": [
  {
   "cell_type": "code",
   "execution_count": 1,
   "id": "initial_id",
   "metadata": {
    "collapsed": true,
    "ExecuteTime": {
     "end_time": "2023-11-22T00:40:31.693568900Z",
     "start_time": "2023-11-22T00:40:31.207566700Z"
    }
   },
   "outputs": [],
   "source": [
    "import pyautogui, win32gui, time\n",
    "from PIL import ImageGrab"
   ]
  },
  {
   "cell_type": "code",
   "execution_count": 2,
   "outputs": [],
   "source": [
    "# 현재 실행중인 윈도우 핸들 목록 가져오기\n",
    "def get_window_hwnd_list():\n",
    "    def callback(_hwnd, _result: list):\n",
    "        title = win32gui.GetWindowText(_hwnd)\n",
    "        if win32gui.IsWindowEnabled(_hwnd) and win32gui.IsWindowVisible(_hwnd) and title is not None and len(title) > 0:\n",
    "            _result.append(_hwnd)\n",
    "        return True\n",
    "\n",
    "    result = []\n",
    "    win32gui.EnumWindows(callback, result)\n",
    "    return result"
   ],
   "metadata": {
    "collapsed": false,
    "ExecuteTime": {
     "end_time": "2023-11-22T00:40:31.709564100Z",
     "start_time": "2023-11-22T00:40:31.698563100Z"
    }
   },
   "id": "51c2592382221dd5"
  },
  {
   "cell_type": "code",
   "execution_count": 3,
   "outputs": [],
   "source": [
    "# 타이틀 일부 문자열을 기준으로, 특정 윈도우 핸들을 찾을 때까지 대기하기\n",
    "def wait_for_window_hwnd(_part_of_title: str):\n",
    "    result = None\n",
    "\n",
    "    while result is None:\n",
    "        hwnd_list = get_window_hwnd_list()\n",
    "        for hwnd in hwnd_list:\n",
    "            title = win32gui.GetWindowText(hwnd)\n",
    "            if title is not None and len(title) > 0:\n",
    "                if title.find(_part_of_title) > -1:\n",
    "                    result = hwnd\n",
    "                    break\n",
    "\n",
    "        # 1초 대기\n",
    "        time.sleep(1)\n",
    "\n",
    "    return result"
   ],
   "metadata": {
    "collapsed": false,
    "ExecuteTime": {
     "end_time": "2023-11-22T00:40:31.737567300Z",
     "start_time": "2023-11-22T00:40:31.714564500Z"
    }
   },
   "id": "694afcd7807b2593"
  },
  {
   "cell_type": "code",
   "execution_count": 4,
   "outputs": [],
   "source": [
    "# 특정 윈도우 핸들을 포커스/포커싱 처리하기\n",
    "def focus_window_hwnd(_hwnd):\n",
    "    result = False\n",
    "\n",
    "    if _hwnd is not None:\n",
    "        while True:\n",
    "            win32gui.ShowWindow(_hwnd, 9) # 최소화 되어있을 경우 복원\n",
    "            win32gui.SetForegroundWindow(_hwnd)\n",
    "\n",
    "            if str(_hwnd) == str(win32gui.GetForegroundWindow()):\n",
    "                break\n",
    "            else:\n",
    "                time.sleep(1)\n",
    "\n",
    "        result = True\n",
    "\n",
    "    return result"
   ],
   "metadata": {
    "collapsed": false,
    "ExecuteTime": {
     "end_time": "2023-11-22T00:40:31.757563700Z",
     "start_time": "2023-11-22T00:40:31.730564500Z"
    }
   },
   "id": "938b9a6ff58265b6"
  },
  {
   "cell_type": "code",
   "execution_count": 5,
   "outputs": [
    {
     "data": {
      "text/plain": "Size(width=2560, height=1440)"
     },
     "execution_count": 5,
     "metadata": {},
     "output_type": "execute_result"
    }
   ],
   "source": [
    "pyautogui.size()"
   ],
   "metadata": {
    "collapsed": false,
    "ExecuteTime": {
     "end_time": "2023-11-22T00:40:31.809565400Z",
     "start_time": "2023-11-22T00:40:31.746563400Z"
    }
   },
   "id": "3765230878af46ee"
  },
  {
   "cell_type": "code",
   "execution_count": 6,
   "outputs": [
    {
     "name": "stdout",
     "output_type": "stream",
     "text": [
      "hwnd: 67578, title: estimate_crawler_crane_ground_pressure – crane_planer_control.ipynb\n",
      "hwnd: 265400, title: 엔지니어링 주체, 기술사사무소 (주)프로메카 _ 건설기계 안전 - Whale\n",
      "hwnd: 657552, title: 작업 관리자\n",
      "hwnd: 199736, title: 계산기\n",
      "hwnd: 330898, title: 계산기\n",
      "hwnd: 328572, title: 설정\n",
      "hwnd: 721632, title: 설정\n",
      "hwnd: 67268, title: HWiNFO Monitor\n",
      "hwnd: 656442, title: Microsoft Text Input Application\n",
      "hwnd: 4260836, title: Liebherr Crane Planner 2.0\n",
      "hwnd: 462020, title: crane_planer_img\n",
      "hwnd: 66048, title: Program Manager\n"
     ]
    }
   ],
   "source": [
    "window_handle_list = get_window_hwnd_list()\n",
    "\n",
    "index = 0\n",
    "for hwnd in window_handle_list:\n",
    "    print(\"hwnd: \" + str(hwnd) + \", title: \" + win32gui.GetWindowText(hwnd))\n",
    "    index += 1"
   ],
   "metadata": {
    "collapsed": false,
    "ExecuteTime": {
     "end_time": "2023-11-22T00:40:31.810569Z",
     "start_time": "2023-11-22T00:40:31.793567200Z"
    }
   },
   "id": "e4d42569e5e9ac15"
  },
  {
   "cell_type": "code",
   "execution_count": 7,
   "outputs": [
    {
     "data": {
      "text/plain": "4260836"
     },
     "execution_count": 7,
     "metadata": {},
     "output_type": "execute_result"
    }
   ],
   "source": [
    "handle = win32gui.FindWindow(0, \"Liebherr Crane Planner 2.0\")\n",
    "handle"
   ],
   "metadata": {
    "collapsed": false,
    "ExecuteTime": {
     "end_time": "2023-11-22T00:40:31.836564700Z",
     "start_time": "2023-11-22T00:40:31.807563900Z"
    }
   },
   "id": "2313b653bc589b63"
  },
  {
   "cell_type": "code",
   "execution_count": 8,
   "outputs": [],
   "source": [
    "swing_angle_arr = list(range(286, 361, 2))\n",
    "boom_angle_arr = list(range(0, 41, 1))\n",
    "weight: int = 3"
   ],
   "metadata": {
    "collapsed": false,
    "ExecuteTime": {
     "end_time": "2023-11-22T00:40:31.912564600Z",
     "start_time": "2023-11-22T00:40:31.823568500Z"
    }
   },
   "id": "3dcaca8ffaa42f99"
  },
  {
   "cell_type": "code",
   "execution_count": 9,
   "outputs": [],
   "source": [
    "for i, boom_angle in enumerate(boom_angle_arr):\n",
    "    boom_angle_arr[i] = boom_angle+40 "
   ],
   "metadata": {
    "collapsed": false,
    "ExecuteTime": {
     "end_time": "2023-11-22T00:40:31.942562Z",
     "start_time": "2023-11-22T00:40:31.840562100Z"
    }
   },
   "id": "71fcbb31357a8157"
  },
  {
   "cell_type": "code",
   "execution_count": 10,
   "outputs": [],
   "source": [
    "focus_window_hwnd(handle)\n",
    "time.sleep(2)\n",
    "\n",
    "for swing_angle in swing_angle_arr:\n",
    "    for boom_angle in boom_angle_arr:\n",
    "        pyautogui.moveTo(y=935, x=235)\n",
    "        pyautogui.doubleClick()\n",
    "\n",
    "        for text in str(swing_angle):\n",
    "            pyautogui.press(text)\n",
    "        \n",
    "        pyautogui.press('enter') \n",
    "\n",
    "        pyautogui.moveTo(y=965, x=235)\n",
    "        pyautogui.doubleClick()\n",
    "        \n",
    "        for text in str(boom_angle):\n",
    "            pyautogui.press(text)\n",
    "            \n",
    "        pyautogui.press('enter')\n",
    "        \n",
    "        time.sleep(5)\n",
    "        img = ImageGrab.grab()\n",
    "        img.save(fp='./crane_planer_img/' + f'swing-{swing_angle}-' + f'boom-{boom_angle}-' + f'weight-{weight}-'+ '.jpg')"
   ],
   "metadata": {
    "collapsed": false,
    "ExecuteTime": {
     "end_time": "2023-11-22T03:25:21.080698100Z",
     "start_time": "2023-11-22T00:40:47.524588200Z"
    }
   },
   "id": "d74d733655923e88"
  }
 ],
 "metadata": {
  "kernelspec": {
   "display_name": "Python 3",
   "language": "python",
   "name": "python3"
  },
  "language_info": {
   "codemirror_mode": {
    "name": "ipython",
    "version": 2
   },
   "file_extension": ".py",
   "mimetype": "text/x-python",
   "name": "python",
   "nbconvert_exporter": "python",
   "pygments_lexer": "ipython2",
   "version": "2.7.6"
  }
 },
 "nbformat": 4,
 "nbformat_minor": 5
}
