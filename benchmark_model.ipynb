{
 "cells": [
  {
   "cell_type": "code",
   "id": "initial_id",
   "metadata": {
    "collapsed": true,
    "ExecuteTime": {
     "end_time": "2024-08-22T06:52:02.676708Z",
     "start_time": "2024-08-22T06:52:02.269281Z"
    }
   },
   "source": [
    "import time, joblib, os\n",
    "import onnxruntime as ort\n",
    "import numpy as np\n",
    "import pandas as pd\n",
    "\n",
    "from utils.dataset import Dataset\n",
    "from tqdm.auto import tqdm"
   ],
   "outputs": [],
   "execution_count": 1
  },
  {
   "metadata": {
    "ExecuteTime": {
     "end_time": "2024-08-22T06:52:02.706709Z",
     "start_time": "2024-08-22T06:52:02.686710Z"
    }
   },
   "cell_type": "code",
   "source": [
    "data_root_path = '.' + os.sep + 'data'\n",
    "data_file_name_list = os.listdir(data_root_path)\n",
    "data_file_name_list"
   ],
   "id": "9b9c531fb956104f",
   "outputs": [
    {
     "data": {
      "text/plain": [
       "['safe-boom-40-swing-180-load-40-.csv',\n",
       " 'safe-boom-50-swing-180-load-50-.csv',\n",
       " 'safe-boom-60-swing-180-load-60-.csv',\n",
       " 'safe-boom-70-swing-180-load-100-.csv',\n",
       " 'safe-boom-80-swing-180-load-120-.csv',\n",
       " 'unsafe-swing-0-load-70-.csv',\n",
       " 'unsafe-swing-0-load-90-.csv',\n",
       " 'unsafe-swing-135-load-50-.csv',\n",
       " 'unsafe-swing-135-load-70-.csv',\n",
       " 'unsafe-swing-180-load-70-.csv',\n",
       " 'unsafe-swing-180-load-90-.csv',\n",
       " 'unsafe-swing-45-load-50-.csv',\n",
       " 'unsafe-swing-45-load-70-.csv',\n",
       " 'unsafe-swing-90-load-70-.csv',\n",
       " 'unsafe-swing-90-load-90-.csv']"
      ]
     },
     "execution_count": 2,
     "metadata": {},
     "output_type": "execute_result"
    }
   ],
   "execution_count": 2
  },
  {
   "metadata": {
    "ExecuteTime": {
     "end_time": "2024-08-22T06:52:03.265841Z",
     "start_time": "2024-08-22T06:52:02.769232Z"
    }
   },
   "cell_type": "code",
   "source": "dataset_inst = Dataset(file_path_list=data_file_name_list)",
   "id": "fc1b3eb0030306aa",
   "outputs": [
    {
     "data": {
      "text/plain": [
       "  0%|          | 0/15 [00:00<?, ?it/s]"
      ],
      "application/vnd.jupyter.widget-view+json": {
       "version_major": 2,
       "version_minor": 0,
       "model_id": "8031141b62f14a668df6f4656debdb96"
      }
     },
     "metadata": {},
     "output_type": "display_data"
    }
   ],
   "execution_count": 3
  },
  {
   "metadata": {
    "ExecuteTime": {
     "end_time": "2024-08-22T06:52:03.295873Z",
     "start_time": "2024-08-22T06:52:03.282848Z"
    }
   },
   "cell_type": "code",
   "source": "raw_dataset = dataset_inst.get_raw_dataset()",
   "id": "a1fdcfa90a2f72ec",
   "outputs": [],
   "execution_count": 4
  },
  {
   "metadata": {
    "ExecuteTime": {
     "end_time": "2024-08-22T06:52:03.356570Z",
     "start_time": "2024-08-22T06:52:03.312051Z"
    }
   },
   "cell_type": "code",
   "source": [
    "raw_dataset_fix = raw_dataset.copy()\n",
    "\n",
    "raw_dataset_fix = raw_dataset_fix[raw_dataset_fix['Time(sec)'] > 2.0]\n",
    "\n",
    "for target_name in dataset_inst.get_data_target_names():\n",
    "    raw_dataset_fix = raw_dataset_fix[raw_dataset_fix[target_name] > 1000]\n",
    "    \n",
    "raw_dataset_fix['Boom_Angle(deg)'] = raw_dataset_fix['Boom_Angle(deg)']+70\n",
    "\n",
    "raw_dataset_fix.reset_index(inplace=True, drop=True)"
   ],
   "id": "6c62415cc57c7368",
   "outputs": [],
   "execution_count": 5
  },
  {
   "metadata": {
    "ExecuteTime": {
     "end_time": "2024-08-22T06:52:03.402009Z",
     "start_time": "2024-08-22T06:52:03.388010Z"
    }
   },
   "cell_type": "code",
   "source": [
    "len_data = raw_dataset_fix.shape[0]\n",
    "n_of_interval = int(len_data/(len_data*0.2))"
   ],
   "id": "23f302304203aaf4",
   "outputs": [],
   "execution_count": 6
  },
  {
   "metadata": {
    "ExecuteTime": {
     "end_time": "2024-08-22T06:52:03.462272Z",
     "start_time": "2024-08-22T06:52:03.434016Z"
    }
   },
   "cell_type": "code",
   "source": [
    "val_data = raw_dataset_fix[::n_of_interval]\n",
    "val_data"
   ],
   "id": "ef0da3844d623526",
   "outputs": [
    {
     "data": {
      "text/plain": [
       "       Time(sec)  Actual_Load_Left_1(N)  Actual_Load_Left_2(N)  \\\n",
       "0       2.000253              170062.47              180680.23   \n",
       "5       2.050253              170483.87              180907.70   \n",
       "10      2.100253              171219.98              181343.90   \n",
       "15      2.150253              172178.57              181932.53   \n",
       "20      2.200253              173074.62              182509.08   \n",
       "...          ...                    ...                    ...   \n",
       "60850  29.920253              462051.33              464014.70   \n",
       "60855  29.970253              463830.77              466038.10   \n",
       "60860  30.020253              465449.65              467946.52   \n",
       "60865  30.070253              466684.16              469636.63   \n",
       "60870  30.120253              467243.03              470991.39   \n",
       "\n",
       "       Actual_Load_Left_3(N)  Actual_Load_Left_4(N)  Actual_Load_Left_5(N)  \\\n",
       "0                  191420.21              202263.13              213189.69   \n",
       "5                  191448.84              202089.07              212810.14   \n",
       "10                 191577.62              201904.46              212307.76   \n",
       "15                 191787.34              201728.12              211740.01   \n",
       "20                 192036.91              201644.70              211319.02   \n",
       "...                      ...                    ...                    ...   \n",
       "60850              465933.24              467806.33              469633.33   \n",
       "60855              468185.27              470271.32              472295.30   \n",
       "60860              470361.77              472693.91              474941.47   \n",
       "60865              472468.95              475178.49              477762.68   \n",
       "60870              474538.75              477879.60              481008.39   \n",
       "\n",
       "       Actual_Load_Right_1(N)  Actual_Load_Right_2(N)  Actual_Load_Right_3(N)  \\\n",
       "0                 168664.7200             179283.9400             190028.3600   \n",
       "5                 169022.0200             179447.1800             189992.6500   \n",
       "10                169498.5900             179622.9100             189860.3000   \n",
       "15                170040.2700             179793.3400             189650.9900   \n",
       "20                170443.4100             179875.6600             189405.5600   \n",
       "...                       ...                     ...                     ...   \n",
       "60850               8792.9026              11045.4470              13535.4500   \n",
       "60855               6649.9670               8816.9263              11268.6360   \n",
       "60860               4647.1116               6681.1238               9061.7776   \n",
       "60865               2754.5771               4601.4865               6896.1467   \n",
       "60870               1048.5416               2564.9751               4721.8324   \n",
       "\n",
       "       Actual_Load_Right_4(N)  Actual_Load_Right_5(N)  Boom_Angle(deg)  \\\n",
       "0                 200878.5800              211815.210        66.879271   \n",
       "5                 200640.0800              211371.150        66.733915   \n",
       "10                200194.0100              210607.250        66.585904   \n",
       "15                199598.2500              209620.160        66.435284   \n",
       "20                199019.5700              208704.160        66.282099   \n",
       "...                       ...                     ...              ...   \n",
       "60850              16257.2530               19205.198        55.358831   \n",
       "60855              13997.9220               16997.608        55.133860   \n",
       "60860              11779.7840               14825.853        54.908862   \n",
       "60865               9625.4635               12776.343        54.683882   \n",
       "60870               7497.7710               10871.448        54.458966   \n",
       "\n",
       "       Swing_Angle(deg)  Load(Ton)  \n",
       "0          1.560000e-30       40.0  \n",
       "5          9.370000e-31       40.0  \n",
       "10         9.870000e-30       40.0  \n",
       "15         3.480000e-30       40.0  \n",
       "20        -4.470000e-31       40.0  \n",
       "...                 ...        ...  \n",
       "60850      9.000000e+01       90.0  \n",
       "60855      9.000000e+01       90.0  \n",
       "60860      9.000000e+01       90.0  \n",
       "60865      9.000000e+01       90.0  \n",
       "60870      9.000000e+01       90.0  \n",
       "\n",
       "[12175 rows x 14 columns]"
      ],
      "text/html": [
       "<div>\n",
       "<style scoped>\n",
       "    .dataframe tbody tr th:only-of-type {\n",
       "        vertical-align: middle;\n",
       "    }\n",
       "\n",
       "    .dataframe tbody tr th {\n",
       "        vertical-align: top;\n",
       "    }\n",
       "\n",
       "    .dataframe thead th {\n",
       "        text-align: right;\n",
       "    }\n",
       "</style>\n",
       "<table border=\"1\" class=\"dataframe\">\n",
       "  <thead>\n",
       "    <tr style=\"text-align: right;\">\n",
       "      <th></th>\n",
       "      <th>Time(sec)</th>\n",
       "      <th>Actual_Load_Left_1(N)</th>\n",
       "      <th>Actual_Load_Left_2(N)</th>\n",
       "      <th>Actual_Load_Left_3(N)</th>\n",
       "      <th>Actual_Load_Left_4(N)</th>\n",
       "      <th>Actual_Load_Left_5(N)</th>\n",
       "      <th>Actual_Load_Right_1(N)</th>\n",
       "      <th>Actual_Load_Right_2(N)</th>\n",
       "      <th>Actual_Load_Right_3(N)</th>\n",
       "      <th>Actual_Load_Right_4(N)</th>\n",
       "      <th>Actual_Load_Right_5(N)</th>\n",
       "      <th>Boom_Angle(deg)</th>\n",
       "      <th>Swing_Angle(deg)</th>\n",
       "      <th>Load(Ton)</th>\n",
       "    </tr>\n",
       "  </thead>\n",
       "  <tbody>\n",
       "    <tr>\n",
       "      <th>0</th>\n",
       "      <td>2.000253</td>\n",
       "      <td>170062.47</td>\n",
       "      <td>180680.23</td>\n",
       "      <td>191420.21</td>\n",
       "      <td>202263.13</td>\n",
       "      <td>213189.69</td>\n",
       "      <td>168664.7200</td>\n",
       "      <td>179283.9400</td>\n",
       "      <td>190028.3600</td>\n",
       "      <td>200878.5800</td>\n",
       "      <td>211815.210</td>\n",
       "      <td>66.879271</td>\n",
       "      <td>1.560000e-30</td>\n",
       "      <td>40.0</td>\n",
       "    </tr>\n",
       "    <tr>\n",
       "      <th>5</th>\n",
       "      <td>2.050253</td>\n",
       "      <td>170483.87</td>\n",
       "      <td>180907.70</td>\n",
       "      <td>191448.84</td>\n",
       "      <td>202089.07</td>\n",
       "      <td>212810.14</td>\n",
       "      <td>169022.0200</td>\n",
       "      <td>179447.1800</td>\n",
       "      <td>189992.6500</td>\n",
       "      <td>200640.0800</td>\n",
       "      <td>211371.150</td>\n",
       "      <td>66.733915</td>\n",
       "      <td>9.370000e-31</td>\n",
       "      <td>40.0</td>\n",
       "    </tr>\n",
       "    <tr>\n",
       "      <th>10</th>\n",
       "      <td>2.100253</td>\n",
       "      <td>171219.98</td>\n",
       "      <td>181343.90</td>\n",
       "      <td>191577.62</td>\n",
       "      <td>201904.46</td>\n",
       "      <td>212307.76</td>\n",
       "      <td>169498.5900</td>\n",
       "      <td>179622.9100</td>\n",
       "      <td>189860.3000</td>\n",
       "      <td>200194.0100</td>\n",
       "      <td>210607.250</td>\n",
       "      <td>66.585904</td>\n",
       "      <td>9.870000e-30</td>\n",
       "      <td>40.0</td>\n",
       "    </tr>\n",
       "    <tr>\n",
       "      <th>15</th>\n",
       "      <td>2.150253</td>\n",
       "      <td>172178.57</td>\n",
       "      <td>181932.53</td>\n",
       "      <td>191787.34</td>\n",
       "      <td>201728.12</td>\n",
       "      <td>211740.01</td>\n",
       "      <td>170040.2700</td>\n",
       "      <td>179793.3400</td>\n",
       "      <td>189650.9900</td>\n",
       "      <td>199598.2500</td>\n",
       "      <td>209620.160</td>\n",
       "      <td>66.435284</td>\n",
       "      <td>3.480000e-30</td>\n",
       "      <td>40.0</td>\n",
       "    </tr>\n",
       "    <tr>\n",
       "      <th>20</th>\n",
       "      <td>2.200253</td>\n",
       "      <td>173074.62</td>\n",
       "      <td>182509.08</td>\n",
       "      <td>192036.91</td>\n",
       "      <td>201644.70</td>\n",
       "      <td>211319.02</td>\n",
       "      <td>170443.4100</td>\n",
       "      <td>179875.6600</td>\n",
       "      <td>189405.5600</td>\n",
       "      <td>199019.5700</td>\n",
       "      <td>208704.160</td>\n",
       "      <td>66.282099</td>\n",
       "      <td>-4.470000e-31</td>\n",
       "      <td>40.0</td>\n",
       "    </tr>\n",
       "    <tr>\n",
       "      <th>...</th>\n",
       "      <td>...</td>\n",
       "      <td>...</td>\n",
       "      <td>...</td>\n",
       "      <td>...</td>\n",
       "      <td>...</td>\n",
       "      <td>...</td>\n",
       "      <td>...</td>\n",
       "      <td>...</td>\n",
       "      <td>...</td>\n",
       "      <td>...</td>\n",
       "      <td>...</td>\n",
       "      <td>...</td>\n",
       "      <td>...</td>\n",
       "      <td>...</td>\n",
       "    </tr>\n",
       "    <tr>\n",
       "      <th>60850</th>\n",
       "      <td>29.920253</td>\n",
       "      <td>462051.33</td>\n",
       "      <td>464014.70</td>\n",
       "      <td>465933.24</td>\n",
       "      <td>467806.33</td>\n",
       "      <td>469633.33</td>\n",
       "      <td>8792.9026</td>\n",
       "      <td>11045.4470</td>\n",
       "      <td>13535.4500</td>\n",
       "      <td>16257.2530</td>\n",
       "      <td>19205.198</td>\n",
       "      <td>55.358831</td>\n",
       "      <td>9.000000e+01</td>\n",
       "      <td>90.0</td>\n",
       "    </tr>\n",
       "    <tr>\n",
       "      <th>60855</th>\n",
       "      <td>29.970253</td>\n",
       "      <td>463830.77</td>\n",
       "      <td>466038.10</td>\n",
       "      <td>468185.27</td>\n",
       "      <td>470271.32</td>\n",
       "      <td>472295.30</td>\n",
       "      <td>6649.9670</td>\n",
       "      <td>8816.9263</td>\n",
       "      <td>11268.6360</td>\n",
       "      <td>13997.9220</td>\n",
       "      <td>16997.608</td>\n",
       "      <td>55.133860</td>\n",
       "      <td>9.000000e+01</td>\n",
       "      <td>90.0</td>\n",
       "    </tr>\n",
       "    <tr>\n",
       "      <th>60860</th>\n",
       "      <td>30.020253</td>\n",
       "      <td>465449.65</td>\n",
       "      <td>467946.52</td>\n",
       "      <td>470361.77</td>\n",
       "      <td>472693.91</td>\n",
       "      <td>474941.47</td>\n",
       "      <td>4647.1116</td>\n",
       "      <td>6681.1238</td>\n",
       "      <td>9061.7776</td>\n",
       "      <td>11779.7840</td>\n",
       "      <td>14825.853</td>\n",
       "      <td>54.908862</td>\n",
       "      <td>9.000000e+01</td>\n",
       "      <td>90.0</td>\n",
       "    </tr>\n",
       "    <tr>\n",
       "      <th>60865</th>\n",
       "      <td>30.070253</td>\n",
       "      <td>466684.16</td>\n",
       "      <td>469636.63</td>\n",
       "      <td>472468.95</td>\n",
       "      <td>475178.49</td>\n",
       "      <td>477762.68</td>\n",
       "      <td>2754.5771</td>\n",
       "      <td>4601.4865</td>\n",
       "      <td>6896.1467</td>\n",
       "      <td>9625.4635</td>\n",
       "      <td>12776.343</td>\n",
       "      <td>54.683882</td>\n",
       "      <td>9.000000e+01</td>\n",
       "      <td>90.0</td>\n",
       "    </tr>\n",
       "    <tr>\n",
       "      <th>60870</th>\n",
       "      <td>30.120253</td>\n",
       "      <td>467243.03</td>\n",
       "      <td>470991.39</td>\n",
       "      <td>474538.75</td>\n",
       "      <td>477879.60</td>\n",
       "      <td>481008.39</td>\n",
       "      <td>1048.5416</td>\n",
       "      <td>2564.9751</td>\n",
       "      <td>4721.8324</td>\n",
       "      <td>7497.7710</td>\n",
       "      <td>10871.448</td>\n",
       "      <td>54.458966</td>\n",
       "      <td>9.000000e+01</td>\n",
       "      <td>90.0</td>\n",
       "    </tr>\n",
       "  </tbody>\n",
       "</table>\n",
       "<p>12175 rows × 14 columns</p>\n",
       "</div>"
      ]
     },
     "execution_count": 7,
     "metadata": {},
     "output_type": "execute_result"
    }
   ],
   "execution_count": 7
  },
  {
   "metadata": {
    "ExecuteTime": {
     "end_time": "2024-08-22T06:52:03.537280Z",
     "start_time": "2024-08-22T06:52:03.523273Z"
    }
   },
   "cell_type": "code",
   "source": [
    "model_feature_names = ['f10', 'f11', 'f12']\n",
    "model_target_names = ['f20', 'f21', 'f22', 'f23', 'f24', 'f25', 'f26', 'f27', 'f28', 'f29']"
   ],
   "id": "16e74c258e23fe2b",
   "outputs": [],
   "execution_count": 8
  },
  {
   "metadata": {
    "ExecuteTime": {
     "end_time": "2024-08-22T06:52:03.612950Z",
     "start_time": "2024-08-22T06:52:03.584791Z"
    }
   },
   "cell_type": "code",
   "source": [
    "val_data_for_model = val_data.rename(columns=dict(zip(dataset_inst.get_data_feature_names()+dataset_inst.get_data_target_names(), model_feature_names+model_target_names)))\n",
    "val_data_for_model"
   ],
   "id": "255832d94d93a637",
   "outputs": [
    {
     "data": {
      "text/plain": [
       "       Time(sec)        f20        f21        f22        f23        f24  \\\n",
       "0       2.000253  170062.47  180680.23  191420.21  202263.13  213189.69   \n",
       "5       2.050253  170483.87  180907.70  191448.84  202089.07  212810.14   \n",
       "10      2.100253  171219.98  181343.90  191577.62  201904.46  212307.76   \n",
       "15      2.150253  172178.57  181932.53  191787.34  201728.12  211740.01   \n",
       "20      2.200253  173074.62  182509.08  192036.91  201644.70  211319.02   \n",
       "...          ...        ...        ...        ...        ...        ...   \n",
       "60850  29.920253  462051.33  464014.70  465933.24  467806.33  469633.33   \n",
       "60855  29.970253  463830.77  466038.10  468185.27  470271.32  472295.30   \n",
       "60860  30.020253  465449.65  467946.52  470361.77  472693.91  474941.47   \n",
       "60865  30.070253  466684.16  469636.63  472468.95  475178.49  477762.68   \n",
       "60870  30.120253  467243.03  470991.39  474538.75  477879.60  481008.39   \n",
       "\n",
       "               f25          f26          f27          f28         f29  \\\n",
       "0      168664.7200  179283.9400  190028.3600  200878.5800  211815.210   \n",
       "5      169022.0200  179447.1800  189992.6500  200640.0800  211371.150   \n",
       "10     169498.5900  179622.9100  189860.3000  200194.0100  210607.250   \n",
       "15     170040.2700  179793.3400  189650.9900  199598.2500  209620.160   \n",
       "20     170443.4100  179875.6600  189405.5600  199019.5700  208704.160   \n",
       "...            ...          ...          ...          ...         ...   \n",
       "60850    8792.9026   11045.4470   13535.4500   16257.2530   19205.198   \n",
       "60855    6649.9670    8816.9263   11268.6360   13997.9220   16997.608   \n",
       "60860    4647.1116    6681.1238    9061.7776   11779.7840   14825.853   \n",
       "60865    2754.5771    4601.4865    6896.1467    9625.4635   12776.343   \n",
       "60870    1048.5416    2564.9751    4721.8324    7497.7710   10871.448   \n",
       "\n",
       "             f10           f11   f12  \n",
       "0      66.879271  1.560000e-30  40.0  \n",
       "5      66.733915  9.370000e-31  40.0  \n",
       "10     66.585904  9.870000e-30  40.0  \n",
       "15     66.435284  3.480000e-30  40.0  \n",
       "20     66.282099 -4.470000e-31  40.0  \n",
       "...          ...           ...   ...  \n",
       "60850  55.358831  9.000000e+01  90.0  \n",
       "60855  55.133860  9.000000e+01  90.0  \n",
       "60860  54.908862  9.000000e+01  90.0  \n",
       "60865  54.683882  9.000000e+01  90.0  \n",
       "60870  54.458966  9.000000e+01  90.0  \n",
       "\n",
       "[12175 rows x 14 columns]"
      ],
      "text/html": [
       "<div>\n",
       "<style scoped>\n",
       "    .dataframe tbody tr th:only-of-type {\n",
       "        vertical-align: middle;\n",
       "    }\n",
       "\n",
       "    .dataframe tbody tr th {\n",
       "        vertical-align: top;\n",
       "    }\n",
       "\n",
       "    .dataframe thead th {\n",
       "        text-align: right;\n",
       "    }\n",
       "</style>\n",
       "<table border=\"1\" class=\"dataframe\">\n",
       "  <thead>\n",
       "    <tr style=\"text-align: right;\">\n",
       "      <th></th>\n",
       "      <th>Time(sec)</th>\n",
       "      <th>f20</th>\n",
       "      <th>f21</th>\n",
       "      <th>f22</th>\n",
       "      <th>f23</th>\n",
       "      <th>f24</th>\n",
       "      <th>f25</th>\n",
       "      <th>f26</th>\n",
       "      <th>f27</th>\n",
       "      <th>f28</th>\n",
       "      <th>f29</th>\n",
       "      <th>f10</th>\n",
       "      <th>f11</th>\n",
       "      <th>f12</th>\n",
       "    </tr>\n",
       "  </thead>\n",
       "  <tbody>\n",
       "    <tr>\n",
       "      <th>0</th>\n",
       "      <td>2.000253</td>\n",
       "      <td>170062.47</td>\n",
       "      <td>180680.23</td>\n",
       "      <td>191420.21</td>\n",
       "      <td>202263.13</td>\n",
       "      <td>213189.69</td>\n",
       "      <td>168664.7200</td>\n",
       "      <td>179283.9400</td>\n",
       "      <td>190028.3600</td>\n",
       "      <td>200878.5800</td>\n",
       "      <td>211815.210</td>\n",
       "      <td>66.879271</td>\n",
       "      <td>1.560000e-30</td>\n",
       "      <td>40.0</td>\n",
       "    </tr>\n",
       "    <tr>\n",
       "      <th>5</th>\n",
       "      <td>2.050253</td>\n",
       "      <td>170483.87</td>\n",
       "      <td>180907.70</td>\n",
       "      <td>191448.84</td>\n",
       "      <td>202089.07</td>\n",
       "      <td>212810.14</td>\n",
       "      <td>169022.0200</td>\n",
       "      <td>179447.1800</td>\n",
       "      <td>189992.6500</td>\n",
       "      <td>200640.0800</td>\n",
       "      <td>211371.150</td>\n",
       "      <td>66.733915</td>\n",
       "      <td>9.370000e-31</td>\n",
       "      <td>40.0</td>\n",
       "    </tr>\n",
       "    <tr>\n",
       "      <th>10</th>\n",
       "      <td>2.100253</td>\n",
       "      <td>171219.98</td>\n",
       "      <td>181343.90</td>\n",
       "      <td>191577.62</td>\n",
       "      <td>201904.46</td>\n",
       "      <td>212307.76</td>\n",
       "      <td>169498.5900</td>\n",
       "      <td>179622.9100</td>\n",
       "      <td>189860.3000</td>\n",
       "      <td>200194.0100</td>\n",
       "      <td>210607.250</td>\n",
       "      <td>66.585904</td>\n",
       "      <td>9.870000e-30</td>\n",
       "      <td>40.0</td>\n",
       "    </tr>\n",
       "    <tr>\n",
       "      <th>15</th>\n",
       "      <td>2.150253</td>\n",
       "      <td>172178.57</td>\n",
       "      <td>181932.53</td>\n",
       "      <td>191787.34</td>\n",
       "      <td>201728.12</td>\n",
       "      <td>211740.01</td>\n",
       "      <td>170040.2700</td>\n",
       "      <td>179793.3400</td>\n",
       "      <td>189650.9900</td>\n",
       "      <td>199598.2500</td>\n",
       "      <td>209620.160</td>\n",
       "      <td>66.435284</td>\n",
       "      <td>3.480000e-30</td>\n",
       "      <td>40.0</td>\n",
       "    </tr>\n",
       "    <tr>\n",
       "      <th>20</th>\n",
       "      <td>2.200253</td>\n",
       "      <td>173074.62</td>\n",
       "      <td>182509.08</td>\n",
       "      <td>192036.91</td>\n",
       "      <td>201644.70</td>\n",
       "      <td>211319.02</td>\n",
       "      <td>170443.4100</td>\n",
       "      <td>179875.6600</td>\n",
       "      <td>189405.5600</td>\n",
       "      <td>199019.5700</td>\n",
       "      <td>208704.160</td>\n",
       "      <td>66.282099</td>\n",
       "      <td>-4.470000e-31</td>\n",
       "      <td>40.0</td>\n",
       "    </tr>\n",
       "    <tr>\n",
       "      <th>...</th>\n",
       "      <td>...</td>\n",
       "      <td>...</td>\n",
       "      <td>...</td>\n",
       "      <td>...</td>\n",
       "      <td>...</td>\n",
       "      <td>...</td>\n",
       "      <td>...</td>\n",
       "      <td>...</td>\n",
       "      <td>...</td>\n",
       "      <td>...</td>\n",
       "      <td>...</td>\n",
       "      <td>...</td>\n",
       "      <td>...</td>\n",
       "      <td>...</td>\n",
       "    </tr>\n",
       "    <tr>\n",
       "      <th>60850</th>\n",
       "      <td>29.920253</td>\n",
       "      <td>462051.33</td>\n",
       "      <td>464014.70</td>\n",
       "      <td>465933.24</td>\n",
       "      <td>467806.33</td>\n",
       "      <td>469633.33</td>\n",
       "      <td>8792.9026</td>\n",
       "      <td>11045.4470</td>\n",
       "      <td>13535.4500</td>\n",
       "      <td>16257.2530</td>\n",
       "      <td>19205.198</td>\n",
       "      <td>55.358831</td>\n",
       "      <td>9.000000e+01</td>\n",
       "      <td>90.0</td>\n",
       "    </tr>\n",
       "    <tr>\n",
       "      <th>60855</th>\n",
       "      <td>29.970253</td>\n",
       "      <td>463830.77</td>\n",
       "      <td>466038.10</td>\n",
       "      <td>468185.27</td>\n",
       "      <td>470271.32</td>\n",
       "      <td>472295.30</td>\n",
       "      <td>6649.9670</td>\n",
       "      <td>8816.9263</td>\n",
       "      <td>11268.6360</td>\n",
       "      <td>13997.9220</td>\n",
       "      <td>16997.608</td>\n",
       "      <td>55.133860</td>\n",
       "      <td>9.000000e+01</td>\n",
       "      <td>90.0</td>\n",
       "    </tr>\n",
       "    <tr>\n",
       "      <th>60860</th>\n",
       "      <td>30.020253</td>\n",
       "      <td>465449.65</td>\n",
       "      <td>467946.52</td>\n",
       "      <td>470361.77</td>\n",
       "      <td>472693.91</td>\n",
       "      <td>474941.47</td>\n",
       "      <td>4647.1116</td>\n",
       "      <td>6681.1238</td>\n",
       "      <td>9061.7776</td>\n",
       "      <td>11779.7840</td>\n",
       "      <td>14825.853</td>\n",
       "      <td>54.908862</td>\n",
       "      <td>9.000000e+01</td>\n",
       "      <td>90.0</td>\n",
       "    </tr>\n",
       "    <tr>\n",
       "      <th>60865</th>\n",
       "      <td>30.070253</td>\n",
       "      <td>466684.16</td>\n",
       "      <td>469636.63</td>\n",
       "      <td>472468.95</td>\n",
       "      <td>475178.49</td>\n",
       "      <td>477762.68</td>\n",
       "      <td>2754.5771</td>\n",
       "      <td>4601.4865</td>\n",
       "      <td>6896.1467</td>\n",
       "      <td>9625.4635</td>\n",
       "      <td>12776.343</td>\n",
       "      <td>54.683882</td>\n",
       "      <td>9.000000e+01</td>\n",
       "      <td>90.0</td>\n",
       "    </tr>\n",
       "    <tr>\n",
       "      <th>60870</th>\n",
       "      <td>30.120253</td>\n",
       "      <td>467243.03</td>\n",
       "      <td>470991.39</td>\n",
       "      <td>474538.75</td>\n",
       "      <td>477879.60</td>\n",
       "      <td>481008.39</td>\n",
       "      <td>1048.5416</td>\n",
       "      <td>2564.9751</td>\n",
       "      <td>4721.8324</td>\n",
       "      <td>7497.7710</td>\n",
       "      <td>10871.448</td>\n",
       "      <td>54.458966</td>\n",
       "      <td>9.000000e+01</td>\n",
       "      <td>90.0</td>\n",
       "    </tr>\n",
       "  </tbody>\n",
       "</table>\n",
       "<p>12175 rows × 14 columns</p>\n",
       "</div>"
      ]
     },
     "execution_count": 9,
     "metadata": {},
     "output_type": "execute_result"
    }
   ],
   "execution_count": 9
  },
  {
   "metadata": {
    "ExecuteTime": {
     "end_time": "2024-08-22T06:52:04.156346Z",
     "start_time": "2024-08-22T06:52:03.735621Z"
    }
   },
   "cell_type": "code",
   "source": "rf_model = joblib.load('rf_model.joblib')",
   "id": "7acab9e96f1ee270",
   "outputs": [],
   "execution_count": 10
  },
  {
   "metadata": {
    "ExecuteTime": {
     "end_time": "2024-08-22T06:52:04.216346Z",
     "start_time": "2024-08-22T06:52:04.203347Z"
    }
   },
   "cell_type": "code",
   "source": "val_input = val_data_for_model[model_feature_names].values",
   "id": "76c415c90268f5d6",
   "outputs": [],
   "execution_count": 11
  },
  {
   "metadata": {
    "ExecuteTime": {
     "end_time": "2024-08-22T06:55:47.970839Z",
     "start_time": "2024-08-22T06:52:04.243351Z"
    }
   },
   "cell_type": "code",
   "source": [
    "rf_elapsed_time = []\n",
    "\n",
    "for val_val in tqdm(val_input):\n",
    "    input_pd = pd.DataFrame(val_val.reshape(1, -1), columns=model_feature_names)\n",
    "    t0 = time.time()\n",
    "    rf_pred = rf_model.predict(input_pd)\n",
    "    rf_elapsed_time.append(time.time() - t0)"
   ],
   "id": "dd57bceed741960c",
   "outputs": [
    {
     "data": {
      "text/plain": [
       "  0%|          | 0/12175 [00:00<?, ?it/s]"
      ],
      "application/vnd.jupyter.widget-view+json": {
       "version_major": 2,
       "version_minor": 0,
       "model_id": "0aa64015c2e54469a70ec4b97919e9da"
      }
     },
     "metadata": {},
     "output_type": "display_data"
    }
   ],
   "execution_count": 12
  },
  {
   "metadata": {
    "ExecuteTime": {
     "end_time": "2024-08-22T06:55:48.031365Z",
     "start_time": "2024-08-22T06:55:48.018367Z"
    }
   },
   "cell_type": "code",
   "source": "sum(rf_elapsed_time)",
   "id": "305c053bcf446c4c",
   "outputs": [
    {
     "data": {
      "text/plain": [
       "214.590918302536"
      ]
     },
     "execution_count": 13,
     "metadata": {},
     "output_type": "execute_result"
    }
   ],
   "execution_count": 13
  },
  {
   "metadata": {
    "ExecuteTime": {
     "end_time": "2024-08-22T06:55:49.001154Z",
     "start_time": "2024-08-22T06:55:48.101421Z"
    }
   },
   "cell_type": "code",
   "source": [
    "onnx_model = ort.InferenceSession('rf_model.onnx')\n",
    "input_name = onnx_model.get_inputs()[0].name\n",
    "output_name = onnx_model.get_outputs()[0].name"
   ],
   "id": "f92646f6fada7d27",
   "outputs": [],
   "execution_count": 14
  },
  {
   "metadata": {
    "ExecuteTime": {
     "end_time": "2024-08-22T06:55:49.061681Z",
     "start_time": "2024-08-22T06:55:49.048396Z"
    }
   },
   "cell_type": "code",
   "source": "input_data = val_data_for_model[model_feature_names].values.astype(np.float32)",
   "id": "62745c20ec6c8467",
   "outputs": [],
   "execution_count": 15
  },
  {
   "metadata": {
    "ExecuteTime": {
     "end_time": "2024-08-22T06:55:52.157255Z",
     "start_time": "2024-08-22T06:55:49.109203Z"
    }
   },
   "cell_type": "code",
   "source": [
    "onnx_elapsed_time = []\n",
    "\n",
    "for input_val in tqdm(input_data):\n",
    "    t0 =time.time()\n",
    "    onnx_pred = onnx_model.run(output_names=None, input_feed={'float_input': input_val.reshape(1, -1)})[0][0]\n",
    "    onnx_elapsed_time.append(time.time() - t0)"
   ],
   "id": "958e0fe17e4499ce",
   "outputs": [
    {
     "data": {
      "text/plain": [
       "  0%|          | 0/12175 [00:00<?, ?it/s]"
      ],
      "application/vnd.jupyter.widget-view+json": {
       "version_major": 2,
       "version_minor": 0,
       "model_id": "0298238601ca4d83bc42cb216e7091c6"
      }
     },
     "metadata": {},
     "output_type": "display_data"
    }
   ],
   "execution_count": 16
  },
  {
   "metadata": {
    "ExecuteTime": {
     "end_time": "2024-08-22T06:55:52.217336Z",
     "start_time": "2024-08-22T06:55:52.204261Z"
    }
   },
   "cell_type": "code",
   "source": "sum(onnx_elapsed_time)",
   "id": "c970abc76aeef096",
   "outputs": [
    {
     "data": {
      "text/plain": [
       "2.999427080154419"
      ]
     },
     "execution_count": 17,
     "metadata": {},
     "output_type": "execute_result"
    }
   ],
   "execution_count": 17
  },
  {
   "metadata": {
    "ExecuteTime": {
     "end_time": "2024-08-22T06:56:55.799345Z",
     "start_time": "2024-08-22T06:56:55.784345Z"
    }
   },
   "cell_type": "code",
   "source": "(1-(abs(rf_pred-onnx_pred)/rf_pred))*100",
   "id": "d615113d2115f75c",
   "outputs": [
    {
     "data": {
      "text/plain": [
       "array([[99.9999909 , 99.99999809, 99.99999931, 99.99998931, 99.99999151,\n",
       "        99.99999918, 99.99998329, 99.99999073, 99.99998858, 99.99999327]])"
      ]
     },
     "execution_count": 21,
     "metadata": {},
     "output_type": "execute_result"
    }
   ],
   "execution_count": 21
  },
  {
   "metadata": {
    "ExecuteTime": {
     "end_time": "2024-08-22T06:55:52.398922Z",
     "start_time": "2024-08-22T06:55:52.379386Z"
    }
   },
   "cell_type": "code",
   "source": "rf_pred",
   "id": "854ba87397c685c7",
   "outputs": [
    {
     "data": {
      "text/plain": [
       "array([[467142.77   , 470595.241  , 473878.403  , 476987.949  ,\n",
       "        479919.572  ,   1565.76195,   3210.28081,   5421.27394,\n",
       "          8180.6768 ,  11470.4246 ]])"
      ]
     },
     "execution_count": 19,
     "metadata": {},
     "output_type": "execute_result"
    }
   ],
   "execution_count": 19
  },
  {
   "metadata": {
    "ExecuteTime": {
     "end_time": "2024-08-22T06:55:52.489822Z",
     "start_time": "2024-08-22T06:55:52.475820Z"
    }
   },
   "cell_type": "code",
   "source": "onnx_pred",
   "id": "8954997160700fba",
   "outputs": [
    {
     "data": {
      "text/plain": [
       "array([467142.8   , 470595.25  , 473878.4   , 476988.    , 479919.53  ,\n",
       "         1565.762 ,   3210.2803,   5421.2734,   8180.6777,  11470.424 ],\n",
       "      dtype=float32)"
      ]
     },
     "execution_count": 20,
     "metadata": {},
     "output_type": "execute_result"
    }
   ],
   "execution_count": 20
  },
  {
   "metadata": {},
   "cell_type": "code",
   "outputs": [],
   "execution_count": null,
   "source": "",
   "id": "a7c743910b9b922d"
  }
 ],
 "metadata": {
  "kernelspec": {
   "display_name": "Python 3",
   "language": "python",
   "name": "python3"
  },
  "language_info": {
   "codemirror_mode": {
    "name": "ipython",
    "version": 2
   },
   "file_extension": ".py",
   "mimetype": "text/x-python",
   "name": "python",
   "nbconvert_exporter": "python",
   "pygments_lexer": "ipython2",
   "version": "2.7.6"
  }
 },
 "nbformat": 4,
 "nbformat_minor": 5
}
