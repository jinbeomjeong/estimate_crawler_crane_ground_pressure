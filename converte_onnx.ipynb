{
 "cells": [
  {
   "cell_type": "code",
   "id": "initial_id",
   "metadata": {
    "collapsed": true,
    "ExecuteTime": {
     "end_time": "2024-11-04T04:25:36.246483Z",
     "start_time": "2024-11-04T04:25:32.824995Z"
    }
   },
   "source": [
    "import os, keras, tf2onnx\n",
    "import tensorflow as tf\n",
    "\n",
    "from tqdm.notebook import tqdm\n",
    "# required onnx version = 1.14.1"
   ],
   "outputs": [],
   "execution_count": 1
  },
  {
   "metadata": {
    "ExecuteTime": {
     "end_time": "2024-11-04T04:25:38.366486Z",
     "start_time": "2024-11-04T04:25:36.251486Z"
    }
   },
   "cell_type": "code",
   "source": [
    "pred_distance = 10\n",
    "best_model_set = list()\n",
    "\n",
    "best_model = keras.models.load_model(os.path.join('models', f'lstm_model_{pred_distance}.keras'))"
   ],
   "id": "7f6610afc428f4bf",
   "outputs": [],
   "execution_count": 2
  },
  {
   "metadata": {
    "ExecuteTime": {
     "end_time": "2024-11-04T04:26:01.089839Z",
     "start_time": "2024-11-04T04:25:58.874588Z"
    }
   },
   "cell_type": "code",
   "source": [
    "spec = (tf.TensorSpec(best_model.inputs[0].shape, tf.float32, name='input'), )\n",
    "\n",
    "onnx_model, _ = tf2onnx.convert.from_keras(best_model, input_signature=spec)\n",
    "    \n",
    "with open(os.path.join('models', f'onnx_model_{pred_distance}.onnx'), \"wb\") as f:\n",
    "    f.write(onnx_model.SerializeToString())"
   ],
   "id": "8416b0bfb546f854",
   "outputs": [],
   "execution_count": 5
  }
 ],
 "metadata": {
  "kernelspec": {
   "display_name": "Python 3",
   "language": "python",
   "name": "python3"
  },
  "language_info": {
   "codemirror_mode": {
    "name": "ipython",
    "version": 2
   },
   "file_extension": ".py",
   "mimetype": "text/x-python",
   "name": "python",
   "nbconvert_exporter": "python",
   "pygments_lexer": "ipython2",
   "version": "2.7.6"
  }
 },
 "nbformat": 4,
 "nbformat_minor": 5
}
