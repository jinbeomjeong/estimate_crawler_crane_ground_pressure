{
 "cells": [
  {
   "cell_type": "code",
   "execution_count": null,
   "id": "initial_id",
   "metadata": {
    "collapsed": true
   },
   "outputs": [],
   "source": [
    "import os, joblib\n",
    "import pandas as pd\n",
    "import numpy as np\n",
    "\n",
    "from utils.Dataset import CraneDataset\n",
    "from sklearn.ensemble import RandomForestRegressor"
   ]
  },
  {
   "metadata": {},
   "cell_type": "code",
   "outputs": [],
   "execution_count": null,
   "source": [
    "data_file_path_list = []\n",
    "data_file_name_list = os.listdir('data')\n",
    "\n",
    "for file_name in data_file_name_list:\n",
    "    data_file_path_list.append(os.path.join('data', file_name))"
   ],
   "id": "682a5c466cdfef3e"
  },
  {
   "metadata": {},
   "cell_type": "code",
   "outputs": [],
   "execution_count": null,
   "source": [
    "dataset_inst = CraneDataset(data_file_path_list)\n",
    "raw_dataset = dataset_inst.get_dataset()\n",
    "\n",
    "feature_names = dataset_inst.get_data_feature_names()\n",
    "target_names = dataset_inst.get_data_target_names()\n",
    "\n",
    "for t_name in target_names:\n",
    "    raw_dataset[t_name] = raw_dataset[t_name]/1000\n",
    "\n",
    "for t_name in target_names:\n",
    "    raw_dataset = raw_dataset[raw_dataset[t_name]>=1]\n",
    "    \n",
    "#raw_dataset = raw_dataset[raw_dataset['Time(sec)']>0]\n",
    "\n",
    "raw_dataset.reset_index(drop=True, inplace=True)"
   ],
   "id": "e2e636b07a35e598"
  },
  {
   "metadata": {},
   "cell_type": "code",
   "outputs": [],
   "execution_count": null,
   "source": "",
   "id": "f43cc063bddde115"
  }
 ],
 "metadata": {
  "kernelspec": {
   "display_name": "Python 3",
   "language": "python",
   "name": "python3"
  },
  "language_info": {
   "codemirror_mode": {
    "name": "ipython",
    "version": 2
   },
   "file_extension": ".py",
   "mimetype": "text/x-python",
   "name": "python",
   "nbconvert_exporter": "python",
   "pygments_lexer": "ipython2",
   "version": "2.7.6"
  }
 },
 "nbformat": 4,
 "nbformat_minor": 5
}
